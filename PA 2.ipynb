{
 "cells": [
  {
   "cell_type": "code",
   "execution_count": 1,
   "id": "9c499793-d716-4a86-8f4d-fb8b83c0a15f",
   "metadata": {},
   "outputs": [],
   "source": [
    "import numpy as np #NumPy library "
   ]
  },
  {
   "cell_type": "markdown",
   "id": "7a74d4bf-fcb3-477b-a5bc-77281b5e1869",
   "metadata": {},
   "source": [
    "NORMALIZATION PROBLEM:"
   ]
  },
  {
   "cell_type": "code",
   "execution_count": 2,
   "id": "61dc8fa4-a176-4a8c-9538-243077af61ee",
   "metadata": {
    "scrolled": true
   },
   "outputs": [
    {
     "data": {
      "text/plain": [
       "array([[-1.44871327, -0.97489987,  0.92644544,  1.63857306, -0.28553693],\n",
       "       [ 1.07872972,  1.7026327 , -1.2528608 ,  0.33668759, -1.24283109],\n",
       "       [ 0.76682962, -0.12873187, -1.05178967,  1.54601018,  1.12269985],\n",
       "       [-0.6741845 ,  0.30012646, -0.07602561,  0.52729079, -0.4912827 ],\n",
       "       [ 0.70353731,  0.32314468, -1.2522199 , -0.6964899 , -1.3971413 ]])"
      ]
     },
     "execution_count": 2,
     "metadata": {},
     "output_type": "execute_result"
    }
   ],
   "source": [
    "X = np.random.random((5, 5))\n",
    "\n",
    "Normalize_X = ((X - X.mean())/(X.std()))\n",
    "\n",
    "np.save(\"X_normalized.npy\", Normalize_X)\n",
    "\n",
    "data = np.load('X_normalized.npy')\n",
    "data"
   ]
  },
  {
   "cell_type": "markdown",
   "id": "2ee2d1f2-b62f-46c5-8d50-e3ab62af3740",
   "metadata": {},
   "source": [
    "DIVISIBLE BY 3 PROBLEM:"
   ]
  },
  {
   "cell_type": "code",
   "execution_count": 3,
   "id": "16ef3e56-f360-4d3a-bccd-98165d2c0d50",
   "metadata": {},
   "outputs": [
    {
     "data": {
      "text/plain": [
       "array([   9,   36,   81,  144,  225,  324,  441,  576,  729,  900, 1089,\n",
       "       1296, 1521, 1764, 2025, 2304, 2601, 2916, 3249, 3600, 3969, 4356,\n",
       "       4761, 5184, 5625, 6084, 6561, 7056, 7569, 8100, 8649, 9216, 9801])"
      ]
     },
     "execution_count": 3,
     "metadata": {},
     "output_type": "execute_result"
    }
   ],
   "source": [
    "arr = np.arange(1, 101)**2\n",
    "arr = arr.reshape(10, 10)\n",
    "divisibleby3 = arr[arr % 3 == 0]\n",
    "\n",
    "np.save(\"div_by_3.npy\", divisibleby3)\n",
    "\n",
    "data = np.load('div_by_3.npy')\n",
    "data"
   ]
  }
 ],
 "metadata": {
  "kernelspec": {
   "display_name": "Python [conda env:base] *",
   "language": "python",
   "name": "conda-base-py"
  },
  "language_info": {
   "codemirror_mode": {
    "name": "ipython",
    "version": 3
   },
   "file_extension": ".py",
   "mimetype": "text/x-python",
   "name": "python",
   "nbconvert_exporter": "python",
   "pygments_lexer": "ipython3",
   "version": "3.13.5"
  }
 },
 "nbformat": 4,
 "nbformat_minor": 5
}
